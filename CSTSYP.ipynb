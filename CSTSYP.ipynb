{
  "cells": [
    {
      "cell_type": "markdown",
      "metadata": {
        "id": "view-in-github",
        "colab_type": "text"
      },
      "source": [
        "<a href=\"https://colab.research.google.com/github/Sofiene-Sellami/CS-TSYP-ENIS-SB/blob/main/CSTSYP.ipynb\" target=\"_parent\"><img src=\"https://colab.research.google.com/assets/colab-badge.svg\" alt=\"Open In Colab\"/></a>"
      ]
    },
    {
      "cell_type": "markdown",
      "source": [
        "###Paper Github folder"
      ],
      "metadata": {
        "id": "TfnK_fbk5Bc0"
      }
    },
    {
      "cell_type": "code",
      "source": [
        "!git clone https://github.com/zjbthomas/ShallowDeepFakesLocalization"
      ],
      "metadata": {
        "id": "GiTq0PES42U9"
      },
      "execution_count": null,
      "outputs": []
    },
    {
      "cell_type": "markdown",
      "source": [
        "###CAISA2 DATASET FOR TRAINING"
      ],
      "metadata": {
        "id": "Dv34C4NytpQ9"
      }
    },
    {
      "cell_type": "code",
      "source": [
        "!git clone https://github.com/namtpham/casia2groundtruth.git"
      ],
      "metadata": {
        "id": "_lMXAY7Ul0xq"
      },
      "execution_count": null,
      "outputs": []
    },
    {
      "cell_type": "code",
      "source": [
        "# Navigate to the directory containing the zip file\n",
        "%cd casia2groundtruth\n",
        "\n",
        "# Unzip the file\n",
        "!unzip CASIA2.0_Groundtruth.zip\n",
        "%cd .."
      ],
      "metadata": {
        "id": "pw6B7w3-tTTV"
      },
      "execution_count": null,
      "outputs": []
    },
    {
      "cell_type": "markdown",
      "source": [
        "###CAISA1 DATASET FOR TESTING"
      ],
      "metadata": {
        "id": "O52eWEkttvDk"
      }
    },
    {
      "cell_type": "code",
      "source": [
        "!git clone https://github.com/namtpham/casia1groundtruth"
      ],
      "metadata": {
        "id": "ahyTKjRstzBk"
      },
      "execution_count": null,
      "outputs": []
    },
    {
      "cell_type": "markdown",
      "source": [
        "######Renaming the CASIA zip file"
      ],
      "metadata": {
        "id": "QS4gjXcr-dCt"
      }
    },
    {
      "cell_type": "code",
      "source": [
        "import os\n",
        "\n",
        "# Specify the directory where the file is located\n",
        "directory = '/content/casia1groundtruth'  # Change this to your actual directory\n",
        "\n",
        "# Specify the current name of the file\n",
        "old_filename = 'CASIA 1.0 groundtruth.zip'  # Change this to your actual filename\n",
        "\n",
        "# Specify the new name for the file\n",
        "new_filename = 'CASIA_1.0_groundtruth.zip'  # Change this to your desired new filename\n",
        "\n",
        "# Combine the directory and filenames to get the full paths\n",
        "old_filepath = os.path.join(directory, old_filename)\n",
        "new_filepath = os.path.join(directory, new_filename)\n",
        "\n",
        "# Rename the file\n",
        "os.rename(old_filepath, new_filepath)"
      ],
      "metadata": {
        "id": "JUiPutVd9-YF"
      },
      "execution_count": 6,
      "outputs": []
    },
    {
      "cell_type": "code",
      "source": [
        "# Navigate to the directory containing the zip file\n",
        "%cd casia1groundtruth\n",
        "\n",
        "# Unzip the file\n",
        "!unzip CASIA_1.0_groundtruth.zip\n",
        "%cd .."
      ],
      "metadata": {
        "id": "jVmAl0Z2t57V"
      },
      "execution_count": null,
      "outputs": []
    },
    {
      "cell_type": "markdown",
      "source": [
        "#Path Files"
      ],
      "metadata": {
        "id": "DhRF9WJsDRW2"
      }
    },
    {
      "cell_type": "code",
      "source": [
        "!wget -O paths.zip \"https://www.dropbox.com/s/opjpz9hoy5xm4um/paths.zip?dl=1\"\n"
      ],
      "metadata": {
        "id": "Zay3mHNbDWYl",
        "outputId": "63a99c3a-13ea-4d26-ea54-1904fb6cb605",
        "colab": {
          "base_uri": "https://localhost:8080/"
        }
      },
      "execution_count": 10,
      "outputs": [
        {
          "output_type": "stream",
          "name": "stdout",
          "text": [
            "--2023-12-11 22:46:40--  https://www.dropbox.com/s/opjpz9hoy5xm4um/paths.zip?dl=1\n",
            "Resolving www.dropbox.com (www.dropbox.com)... 162.125.80.18, 2620:100:601f:18::a27d:912\n",
            "Connecting to www.dropbox.com (www.dropbox.com)|162.125.80.18|:443... connected.\n",
            "HTTP request sent, awaiting response... 302 Found\n",
            "Location: /s/dl/opjpz9hoy5xm4um/paths.zip [following]\n",
            "--2023-12-11 22:46:41--  https://www.dropbox.com/s/dl/opjpz9hoy5xm4um/paths.zip\n",
            "Reusing existing connection to www.dropbox.com:443.\n",
            "HTTP request sent, awaiting response... 302 Found\n",
            "Location: https://ucc3098db01ebe32864dc5e8d40d.dl.dropboxusercontent.com/cd/0/get/CJO--FfW6MAC4KmMa0wq-xIagHlKoHTsKLpnOas84hCNASJmZQeNnUnfIQi2Yf06VJoO6FxB1FLIHgD34y0YQ5fZ8gOyJ_ssT7I3i_Eo3iuwg-qteWAXenirrp7iWVCFPnNK7OKyE2XdLljhBXxOD0Vy/file?dl=1# [following]\n",
            "--2023-12-11 22:46:42--  https://ucc3098db01ebe32864dc5e8d40d.dl.dropboxusercontent.com/cd/0/get/CJO--FfW6MAC4KmMa0wq-xIagHlKoHTsKLpnOas84hCNASJmZQeNnUnfIQi2Yf06VJoO6FxB1FLIHgD34y0YQ5fZ8gOyJ_ssT7I3i_Eo3iuwg-qteWAXenirrp7iWVCFPnNK7OKyE2XdLljhBXxOD0Vy/file?dl=1\n",
            "Resolving ucc3098db01ebe32864dc5e8d40d.dl.dropboxusercontent.com (ucc3098db01ebe32864dc5e8d40d.dl.dropboxusercontent.com)... 162.125.5.15, 2620:100:601d:15::a27d:50f\n",
            "Connecting to ucc3098db01ebe32864dc5e8d40d.dl.dropboxusercontent.com (ucc3098db01ebe32864dc5e8d40d.dl.dropboxusercontent.com)|162.125.5.15|:443... connected.\n",
            "HTTP request sent, awaiting response... 200 OK\n",
            "Length: 585812 (572K) [application/binary]\n",
            "Saving to: ‘paths.zip’\n",
            "\n",
            "paths.zip           100%[===================>] 572.08K  1.89MB/s    in 0.3s    \n",
            "\n",
            "2023-12-11 22:46:43 (1.89 MB/s) - ‘paths.zip’ saved [585812/585812]\n",
            "\n"
          ]
        }
      ]
    },
    {
      "cell_type": "markdown",
      "source": [
        "#Training"
      ],
      "metadata": {
        "id": "3X8MXre7_LVm"
      }
    },
    {
      "cell_type": "code",
      "source": [
        "!python -u train_torch.py --paths_file /path/to/train.txt --val_paths_file /path/to/val.txt --model mvssnet"
      ],
      "metadata": {
        "id": "vuitxkOw_Nzl"
      },
      "execution_count": null,
      "outputs": []
    }
  ],
  "metadata": {
    "colab": {
      "name": "Welcome To Colaboratory",
      "provenance": [],
      "include_colab_link": true
    },
    "kernelspec": {
      "display_name": "Python 3",
      "name": "python3"
    }
  },
  "nbformat": 4,
  "nbformat_minor": 0
}