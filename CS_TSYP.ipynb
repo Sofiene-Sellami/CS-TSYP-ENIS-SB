{
  "cells": [
    {
      "cell_type": "markdown",
      "metadata": {
        "id": "view-in-github",
        "colab_type": "text"
      },
      "source": [
        "<a href=\"https://colab.research.google.com/github/Sofiene-Sellami/CS-TSYP-ENIS-SB/blob/main/CS_TSYP.ipynb\" target=\"_parent\"><img src=\"https://colab.research.google.com/assets/colab-badge.svg\" alt=\"Open In Colab\"/></a>"
      ]
    },
    {
      "cell_type": "markdown",
      "source": [
        "#Paper Github folder"
      ],
      "metadata": {
        "id": "TfnK_fbk5Bc0"
      }
    },
    {
      "cell_type": "code",
      "source": [
        "!git clone https://github.com/zjbthomas/ShallowDeepFakesLocalization"
      ],
      "metadata": {
        "id": "GiTq0PES42U9",
        "colab": {
          "base_uri": "https://localhost:8080/"
        },
        "outputId": "ae58bc7e-d694-463c-a600-f26afde6e639"
      },
      "execution_count": 8,
      "outputs": [
        {
          "output_type": "stream",
          "name": "stdout",
          "text": [
            "Cloning into 'ShallowDeepFakesLocalization'...\n",
            "remote: Enumerating objects: 87, done.\u001b[K\n",
            "remote: Counting objects: 100% (87/87), done.\u001b[K\n",
            "remote: Compressing objects: 100% (70/70), done.\u001b[K\n",
            "remote: Total 87 (delta 19), reused 80 (delta 12), pack-reused 0\u001b[K\n",
            "Receiving objects: 100% (87/87), 410.09 KiB | 7.46 MiB/s, done.\n",
            "Resolving deltas: 100% (19/19), done.\n"
          ]
        }
      ]
    },
    {
      "cell_type": "markdown",
      "source": [
        "# Deepfake dataset"
      ],
      "metadata": {
        "id": "7BtxrXGkqfsp"
      }
    },
    {
      "cell_type": "code",
      "source": [
        "!pip install gdown\n",
        "\n",
        "file_url = \"https://www.dropbox.com/s/o5410tl5v4vxsth/ICNC2023-Deepfakes.tar.xz?dl=1\"  # Use ?dl=1 to force the file to be downloaded\n",
        "\n",
        "output_path = \"/content/Deepfake\"\n",
        "\n",
        "!gdown {file_url} -O {output_path}\n",
        "!unzip casia2.zip"
      ],
      "metadata": {
        "id": "ToiUOt7eqevY"
      },
      "execution_count": null,
      "outputs": []
    },
    {
      "cell_type": "markdown",
      "source": [
        "#Coverage DATASET"
      ],
      "metadata": {
        "id": "NrVQPfuArJiB"
      }
    },
    {
      "cell_type": "code",
      "source": [
        "file_url = \"https://onedrive.live.com/?authkey=%21ADJSupKlX%5FIj8Yc&id=4B518F0277851508%21709&cid=4B518F0277851508&download=1\"\n",
        "output_file = \"downloaded_file.zip\"\n",
        "\n",
        "!wget --no-check-certificate {file_url} -O {output_file}\n"
      ],
      "metadata": {
        "id": "C83RvOJurNAI"
      },
      "execution_count": null,
      "outputs": []
    },
    {
      "cell_type": "code",
      "source": [
        "! unzip Coverage"
      ],
      "metadata": {
        "id": "X74Lw0-3reYG"
      },
      "execution_count": null,
      "outputs": []
    },
    {
      "cell_type": "markdown",
      "source": [
        "#CAISA2 DATASET FOR TRAINING"
      ],
      "metadata": {
        "id": "Dv34C4NytpQ9"
      }
    },
    {
      "cell_type": "code",
      "source": [
        "!pip install gdown"
      ],
      "metadata": {
        "id": "p0AvlNG-gB0e"
      },
      "execution_count": null,
      "outputs": []
    },
    {
      "cell_type": "code",
      "source": [
        "import gdown\n",
        "\n",
        "# URL from the sharing link\n",
        "url = 'https://drive.google.com/u/0/uc?id=1IDUgcoUeonBxx2rASX-_QwV9fhbtqdY8&export=download'\n",
        "\n",
        "# Output file path\n",
        "output_path = 'casia2.zip'\n",
        "\n",
        "# Download the file\n",
        "gdown.download(url, output_path, quiet=False)"
      ],
      "metadata": {
        "id": "-fWWtkTcgVVm"
      },
      "execution_count": null,
      "outputs": []
    },
    {
      "cell_type": "code",
      "source": [
        "!unzip casia2.zip"
      ],
      "metadata": {
        "id": "HrDk45xMhKfO"
      },
      "execution_count": null,
      "outputs": []
    },
    {
      "cell_type": "markdown",
      "source": [
        "### Check file type"
      ],
      "metadata": {
        "id": "jLyuAliWhzeW"
      }
    },
    {
      "cell_type": "code",
      "source": [
        "!pip install python-magic"
      ],
      "metadata": {
        "id": "U8uyipDtN5eu"
      },
      "execution_count": null,
      "outputs": []
    },
    {
      "cell_type": "code",
      "source": [
        "import magic\n",
        "\n",
        "def get_file_type(file_path):\n",
        "    mime = magic.Magic()\n",
        "    file_type = mime.from_file(file_path)\n",
        "    return file_type\n",
        "\n",
        "# Example usage:\n",
        "file_path = \"/content/casia2.zip\"\n",
        "file_type = get_file_type(file_path)\n",
        "print(f\"The file type is: {file_type}\")"
      ],
      "metadata": {
        "id": "zUkMGd-BN7sN"
      },
      "execution_count": null,
      "outputs": []
    },
    {
      "cell_type": "markdown",
      "source": [
        "#CAISA1 DATASET FOR TESTING"
      ],
      "metadata": {
        "id": "O52eWEkttvDk"
      }
    },
    {
      "cell_type": "code",
      "source": [
        "!git clone https://github.com/namtpham/casia1groundtruth"
      ],
      "metadata": {
        "id": "ahyTKjRstzBk",
        "colab": {
          "base_uri": "https://localhost:8080/"
        },
        "outputId": "1cc0c428-4e7e-4db9-a195-c677c5d54e6d"
      },
      "execution_count": 6,
      "outputs": [
        {
          "output_type": "stream",
          "name": "stdout",
          "text": [
            "Cloning into 'casia1groundtruth'...\n",
            "remote: Enumerating objects: 69, done.\u001b[K\n",
            "remote: Counting objects: 100% (69/69), done.\u001b[K\n",
            "remote: Compressing objects: 100% (61/61), done.\u001b[K\n",
            "remote: Total 69 (delta 11), reused 65 (delta 7), pack-reused 0\u001b[K\n",
            "Receiving objects: 100% (69/69), 27.26 MiB | 6.74 MiB/s, done.\n",
            "Resolving deltas: 100% (11/11), done.\n"
          ]
        }
      ]
    },
    {
      "cell_type": "markdown",
      "source": [
        "######Renaming the CASIA zip file"
      ],
      "metadata": {
        "id": "QS4gjXcr-dCt"
      }
    },
    {
      "cell_type": "code",
      "source": [
        "import os\n",
        "\n",
        "# Specify the directory where the file is located\n",
        "directory = '/content/casia1groundtruth'  # Change this to your actual directory\n",
        "\n",
        "# Specify the current name of the file\n",
        "old_filename = 'CASIA 1.0 groundtruth.zip'  # Change this to your actual filename\n",
        "\n",
        "# Specify the new name for the file\n",
        "new_filename = 'CASIA_1.0_groundtruth.zip'  # Change this to your desired new filename\n",
        "\n",
        "# Combine the directory and filenames to get the full paths\n",
        "old_filepath = os.path.join(directory, old_filename)\n",
        "new_filepath = os.path.join(directory, new_filename)\n",
        "\n",
        "# Rename the file\n",
        "os.rename(old_filepath, new_filepath)"
      ],
      "metadata": {
        "id": "JUiPutVd9-YF"
      },
      "execution_count": 7,
      "outputs": []
    },
    {
      "cell_type": "code",
      "source": [
        "# Navigate to the directory containing the zip file\n",
        "%cd casia1groundtruth\n",
        "\n",
        "# Unzip the file\n",
        "!unzip CASIA_1.0_groundtruth.zip\n",
        "%cd .."
      ],
      "metadata": {
        "id": "jVmAl0Z2t57V"
      },
      "execution_count": null,
      "outputs": []
    },
    {
      "cell_type": "markdown",
      "source": [
        "#Columbia Data set for testing"
      ],
      "metadata": {
        "id": "3GAJfeSIMQgD"
      }
    },
    {
      "cell_type": "code",
      "source": [
        "file_url = \"https://www.dropbox.com/sh/786qv3yhvc7s9ki/AACbEEzGPrD3_y38bpWHzgdqa?dl=1\"  # Use ?dl=1 to force the file to be downloaded\n",
        "\n",
        "output_path = \"/content/Columbia\"\n",
        "\n",
        "!gdown {file_url} -O {output_path}\n"
      ],
      "metadata": {
        "colab": {
          "base_uri": "https://localhost:8080/"
        },
        "id": "hlNsnM71MWVx",
        "outputId": "6a96452b-fcb9-4d38-c736-20cbd717341d"
      },
      "execution_count": 1,
      "outputs": [
        {
          "output_type": "stream",
          "name": "stdout",
          "text": [
            "Downloading...\n",
            "From: https://www.dropbox.com/sh/786qv3yhvc7s9ki/AACbEEzGPrD3_y38bpWHzgdqa?dl=1\n",
            "To: /content/your_desired_output_folder\n",
            "100% 401M/401M [00:03<00:00, 133MB/s]\n"
          ]
        }
      ]
    },
    {
      "cell_type": "code",
      "source": [
        "!unzip casia2.zip"
      ],
      "metadata": {
        "id": "ISia2DgqM3o8"
      },
      "execution_count": null,
      "outputs": []
    },
    {
      "cell_type": "markdown",
      "source": [
        "#Path Files"
      ],
      "metadata": {
        "id": "DhRF9WJsDRW2"
      }
    },
    {
      "cell_type": "code",
      "source": [
        "!wget -O paths.zip \"https://www.dropbox.com/s/opjpz9hoy5xm4um/paths.zip?dl=1\"\n",
        "!unzip paths.zip"
      ],
      "metadata": {
        "id": "Zay3mHNbDWYl",
        "colab": {
          "base_uri": "https://localhost:8080/"
        },
        "outputId": "63ec22c8-cf3b-4835-aed5-b2c092a2572f"
      },
      "execution_count": 6,
      "outputs": [
        {
          "output_type": "stream",
          "name": "stdout",
          "text": [
            "--2023-12-17 17:45:43--  https://www.dropbox.com/s/opjpz9hoy5xm4um/paths.zip?dl=1\n",
            "Resolving www.dropbox.com (www.dropbox.com)... 162.125.5.18, 2620:100:601f:18::a27d:912\n",
            "Connecting to www.dropbox.com (www.dropbox.com)|162.125.5.18|:443... connected.\n",
            "HTTP request sent, awaiting response... 302 Found\n",
            "Location: /s/dl/opjpz9hoy5xm4um/paths.zip [following]\n",
            "--2023-12-17 17:45:44--  https://www.dropbox.com/s/dl/opjpz9hoy5xm4um/paths.zip\n",
            "Reusing existing connection to www.dropbox.com:443.\n",
            "HTTP request sent, awaiting response... 302 Found\n",
            "Location: https://uc356ae84749d9c4b1cf65d8bcf3.dl.dropboxusercontent.com/cd/0/get/CJnzt78bZd2VWUG_CwsLeMlrS7weP3wjojhoYoosq69BhcO5slBOFvz-mJvZg-7ttj7mSL-9Q6XxTjgW-2VwuheIKlPR9QU6OQVICN4klwLjjKpDuOqow3lthY-4Z-ymziPKPsQZgQEPhbtn13aj9Qr7/file?dl=1# [following]\n",
            "--2023-12-17 17:45:44--  https://uc356ae84749d9c4b1cf65d8bcf3.dl.dropboxusercontent.com/cd/0/get/CJnzt78bZd2VWUG_CwsLeMlrS7weP3wjojhoYoosq69BhcO5slBOFvz-mJvZg-7ttj7mSL-9Q6XxTjgW-2VwuheIKlPR9QU6OQVICN4klwLjjKpDuOqow3lthY-4Z-ymziPKPsQZgQEPhbtn13aj9Qr7/file?dl=1\n",
            "Resolving uc356ae84749d9c4b1cf65d8bcf3.dl.dropboxusercontent.com (uc356ae84749d9c4b1cf65d8bcf3.dl.dropboxusercontent.com)... 162.125.80.15, 2620:100:601f:15::a27d:90f\n",
            "Connecting to uc356ae84749d9c4b1cf65d8bcf3.dl.dropboxusercontent.com (uc356ae84749d9c4b1cf65d8bcf3.dl.dropboxusercontent.com)|162.125.80.15|:443... connected.\n",
            "HTTP request sent, awaiting response... 200 OK\n",
            "Length: 585812 (572K) [application/binary]\n",
            "Saving to: ‘paths.zip’\n",
            "\n",
            "paths.zip           100%[===================>] 572.08K   557KB/s    in 1.0s    \n",
            "\n",
            "2023-12-17 17:45:47 (557 KB/s) - ‘paths.zip’ saved [585812/585812]\n",
            "\n",
            "Archive:  paths.zip\n",
            "  inflating: paths_test.txt          \n",
            "  inflating: paths_test_df.txt       \n",
            "  inflating: paths_test_sf.txt       \n",
            "  inflating: paths_train.txt         \n",
            "  inflating: paths_train_df.txt      \n",
            "  inflating: paths_train_sf.txt      \n",
            "  inflating: paths_val.txt           \n",
            "  inflating: paths_val_df.txt        \n",
            "  inflating: paths_val_sf.txt        \n"
          ]
        }
      ]
    },
    {
      "cell_type": "markdown",
      "source": [
        "#Training"
      ],
      "metadata": {
        "id": "3X8MXre7_LVm"
      }
    },
    {
      "cell_type": "markdown",
      "source": [
        "### Installing Ninja"
      ],
      "metadata": {
        "id": "XqrJfetxig9O"
      }
    },
    {
      "cell_type": "code",
      "source": [
        "!apt-get install ninja-build"
      ],
      "metadata": {
        "id": "A1UKSF3kPp7k"
      },
      "execution_count": null,
      "outputs": []
    },
    {
      "cell_type": "markdown",
      "source": [
        "###Experiment 1 : MVSS-NET with Shallowfake only"
      ],
      "metadata": {
        "id": "9b5tLpfmuJn-"
      }
    },
    {
      "cell_type": "code",
      "source": [
        "%cd ShallowDeepFakesLocalization\n",
        "!python -u train_torch.py --paths_file /content/paths_train_sf.txt --val_paths_file /content/paths_val_sf.txt --model mvssnet"
      ],
      "metadata": {
        "id": "vuitxkOw_Nzl"
      },
      "execution_count": null,
      "outputs": []
    },
    {
      "cell_type": "markdown",
      "source": [
        "###Experiment 2 : MVSS-NET with Deepfake only"
      ],
      "metadata": {
        "id": "rSa_BEmD0caP"
      }
    },
    {
      "cell_type": "code",
      "source": [
        "%cd ShallowDeepFakesLocalization\n",
        "!python -u train_torch.py --paths_file /content/paths_train_df.txt --val_paths_file /content/paths_val_df.txt --model mvssnet"
      ],
      "metadata": {
        "id": "T10lelTy0gdv"
      },
      "execution_count": null,
      "outputs": []
    },
    {
      "cell_type": "markdown",
      "source": [
        "###Experiment 3 : MVSS-NET with both"
      ],
      "metadata": {
        "id": "gHQCfXWr00iU"
      }
    },
    {
      "cell_type": "code",
      "source": [
        "%cd ShallowDeepFakesLocalization\n",
        "!python -u train_torch.py --paths_file /content/paths_train.txt --val_paths_file /content/paths_val.txt --model mvssnet"
      ],
      "metadata": {
        "id": "i5bzvgYh05G5"
      },
      "execution_count": null,
      "outputs": []
    },
    {
      "cell_type": "markdown",
      "source": [
        "#Testing our MVSS-NET models\n"
      ],
      "metadata": {
        "id": "fDHrMyjM1D3H"
      }
    },
    {
      "cell_type": "markdown",
      "source": [
        "### On Shallowfakes\n"
      ],
      "metadata": {
        "id": "AMpwnZJZ1gB8"
      }
    },
    {
      "cell_type": "code",
      "source": [
        "!python -u evaluate.py --paths_file /content/paths_test_sf.txt --load_path /path/to/trained/model/exp1.path --model mvssnet"
      ],
      "metadata": {
        "id": "YFxV8oQg1mIX"
      },
      "execution_count": null,
      "outputs": []
    },
    {
      "cell_type": "markdown",
      "source": [
        "### On Deepfakes"
      ],
      "metadata": {
        "id": "t_TxLcPE1fns"
      }
    },
    {
      "cell_type": "code",
      "source": [
        "!python -u evaluate.py --paths_file /content/paths_test_df.txt --load_path /path/to/trained/model/exp2.path --model mvssnet"
      ],
      "metadata": {
        "id": "1UztVX4S1mbT"
      },
      "execution_count": null,
      "outputs": []
    },
    {
      "cell_type": "markdown",
      "source": [
        "### On both"
      ],
      "metadata": {
        "id": "BJiOswu_1aho"
      }
    },
    {
      "cell_type": "code",
      "source": [
        "!python -u evaluate.py --paths_file /content/paths_test.txt --load_path /path/to/trained/model/exp3.path --model mvssnet"
      ],
      "metadata": {
        "id": "9WNzBGch1UmR"
      },
      "execution_count": null,
      "outputs": []
    },
    {
      "cell_type": "markdown",
      "source": [
        "#Testing thier models"
      ],
      "metadata": {
        "id": "_f30fEW928vk"
      }
    },
    {
      "cell_type": "markdown",
      "source": [
        "###Downloading their models"
      ],
      "metadata": {
        "id": "Zw-PgONu3HM2"
      }
    },
    {
      "cell_type": "markdown",
      "source": [
        "### Experiment 1"
      ],
      "metadata": {
        "id": "dvl3z-vj3W2D"
      }
    },
    {
      "cell_type": "code",
      "source": [
        "!wget \"https://www.dropbox.com/s/jov5nsj47pyfv16/1.pth?dl=1\" -O 1.pth"
      ],
      "metadata": {
        "id": "iKgrMEz23D1L"
      },
      "execution_count": null,
      "outputs": []
    },
    {
      "cell_type": "markdown",
      "source": [
        "### Experiment 2"
      ],
      "metadata": {
        "id": "xjgrvdzZ3jQn"
      }
    },
    {
      "cell_type": "code",
      "source": [
        "!wget \"https://www.dropbox.com/s/w9eviamadmc0feh/2.pth?dl=0\" -O 2.pth"
      ],
      "metadata": {
        "id": "Yw2uRmgx3jQn"
      },
      "execution_count": null,
      "outputs": []
    },
    {
      "cell_type": "markdown",
      "source": [
        "###Testing their models"
      ],
      "metadata": {
        "id": "szr_JUTn38cv"
      }
    },
    {
      "cell_type": "markdown",
      "source": [
        "### Experiment 1"
      ],
      "metadata": {
        "id": "O-0Dkv6B4Jc5"
      }
    },
    {
      "cell_type": "code",
      "source": [
        "%cd ShallowDeepFakesLocalization\n",
        "!python -u evaluate.py --paths_file /content/paths_test_sf.txt --load_path /content/1.pth --model mvssnet"
      ],
      "metadata": {
        "colab": {
          "base_uri": "https://localhost:8080/"
        },
        "id": "JxGlEfsJ3-T3",
        "outputId": "5914e778-b43a-4acd-ff95-d91747e44701"
      },
      "execution_count": 13,
      "outputs": [
        {
          "output_type": "stream",
          "name": "stdout",
          "text": [
            "[Errno 2] No such file or directory: 'ShallowDeepFakesLocalization'\n",
            "/content/ShallowDeepFakesLocalization\n",
            "No CUDA runtime is found, using CUDA_HOME='/usr/local/cuda'\n",
            "Using /root/.cache/torch_extensions/py310_cu121 as PyTorch extensions root...\n",
            "Detected CUDA files, patching ldflags\n",
            "Emitting ninja build file /root/.cache/torch_extensions/py310_cu121/_prroi_pooling/build.ninja...\n",
            "Traceback (most recent call last):\n",
            "  File \"/content/ShallowDeepFakesLocalization/evaluate.py\", line 19, in <module>\n",
            "    from models.upernet import EncoderDecoder\n",
            "  File \"/content/ShallowDeepFakesLocalization/models/upernet.py\", line 9, in <module>\n",
            "    from utils.lib.nn import SynchronizedBatchNorm2d, PrRoIPool2D\n",
            "  File \"/content/ShallowDeepFakesLocalization/utils/lib/nn/__init__.py\", line 2, in <module>\n",
            "    from .prroi_pool import *\n",
            "  File \"/content/ShallowDeepFakesLocalization/utils/lib/nn/prroi_pool/__init__.py\", line 12, in <module>\n",
            "    from .prroi_pool import *\n",
            "  File \"/content/ShallowDeepFakesLocalization/utils/lib/nn/prroi_pool/prroi_pool.py\", line 14, in <module>\n",
            "    from .functional import prroi_pool2d\n",
            "  File \"/content/ShallowDeepFakesLocalization/utils/lib/nn/prroi_pool/functional.py\", line 19, in <module>\n",
            "    _prroi_pooling = load_extension(\n",
            "  File \"/usr/local/lib/python3.10/dist-packages/torch/utils/cpp_extension.py\", line 1308, in load\n",
            "    return _jit_compile(\n",
            "  File \"/usr/local/lib/python3.10/dist-packages/torch/utils/cpp_extension.py\", line 1710, in _jit_compile\n",
            "    _write_ninja_file_and_build_library(\n",
            "  File \"/usr/local/lib/python3.10/dist-packages/torch/utils/cpp_extension.py\", line 1810, in _write_ninja_file_and_build_library\n",
            "    _write_ninja_file_to_build_library(\n",
            "  File \"/usr/local/lib/python3.10/dist-packages/torch/utils/cpp_extension.py\", line 2199, in _write_ninja_file_to_build_library\n",
            "    cuda_flags = common_cflags + COMMON_NVCC_FLAGS + _get_cuda_arch_flags()\n",
            "  File \"/usr/local/lib/python3.10/dist-packages/torch/utils/cpp_extension.py\", line 1980, in _get_cuda_arch_flags\n",
            "    arch_list[-1] += '+PTX'\n",
            "IndexError: list index out of range\n"
          ]
        }
      ]
    },
    {
      "cell_type": "markdown",
      "source": [
        "### Experiment 2"
      ],
      "metadata": {
        "id": "exjqRBL24Lop"
      }
    },
    {
      "cell_type": "code",
      "source": [
        "%cd ShallowDeepFakesLocalization\n",
        "!python -u evaluate.py --paths_file /content/paths_test_df.txt --load_path /content/2.pth --model mvssnet"
      ],
      "metadata": {
        "id": "issdLC7E4OWi"
      },
      "execution_count": null,
      "outputs": []
    },
    {
      "cell_type": "markdown",
      "source": [
        "### Experiment 3"
      ],
      "metadata": {
        "id": "FnQzU77I4N5n"
      }
    },
    {
      "cell_type": "code",
      "source": [
        "%cd ShallowDeepFakesLocalization\n",
        "!python -u evaluate.py --paths_file /content/paths_test.txt --load_path /content/3.pth --model mvssnet"
      ],
      "metadata": {
        "id": "1gzql_gk4Qay"
      },
      "execution_count": null,
      "outputs": []
    }
  ],
  "metadata": {
    "colab": {
      "provenance": [],
      "gpuType": "T4",
      "include_colab_link": true
    },
    "kernelspec": {
      "display_name": "Python 3",
      "name": "python3"
    },
    "accelerator": "GPU"
  },
  "nbformat": 4,
  "nbformat_minor": 0
}